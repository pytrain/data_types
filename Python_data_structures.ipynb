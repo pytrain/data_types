{
 "cells": [
  {
   "cell_type": "code",
   "execution_count": null,
   "metadata": {
    "colab": {},
    "colab_type": "code",
    "id": "AjdbmUI9DZDL"
   },
   "outputs": [],
   "source": [
    "from __future__ import print_function\n",
    "from IPython.core.interactiveshell import InteractiveShell\n",
    "InteractiveShell.ast_node_interactivity = \"all\""
   ]
  },
  {
   "cell_type": "markdown",
   "metadata": {
    "colab_type": "text",
    "id": "fFi_Guc3DZDX"
   },
   "source": [
    "![NASA](http://www.nasa.gov/sites/all/themes/custom/nasatwo/images/nasa-logo.svg)\n",
    "\n",
    "<center><h1><font size=\"+3\">GSFC Python Bootcamp</font></h1></center>\n",
    "\n",
    "---\n",
    "\n",
    "<center><h1>\n",
    "    <font color=\"red\">Python Data Structures</font>  \n",
    "</h1></center>"
   ]
  },
  {
   "cell_type": "markdown",
   "metadata": {
    "colab_type": "text",
    "id": "YxPbzlnWDZDb"
   },
   "source": [
    "## <font color=\"red\">Lists</font>"
   ]
  },
  {
   "cell_type": "markdown",
   "metadata": {
    "colab_type": "text",
    "id": "9reCLtl1DZDd"
   },
   "source": [
    "* A list is data structure that holds ordered collections of related data. \n",
    "* Elements can be accessed by index.\n",
    "* Grow and shrink as needed.\n",
    "* <font color='blue'> Can contain a mix of types </font>\n",
    "* <font color='blue'>Are mutable</font>."
   ]
  },
  {
   "cell_type": "markdown",
   "metadata": {
    "colab_type": "text",
    "id": "bONKmp4rDZDf"
   },
   "source": [
    "#### Initialization"
   ]
  },
  {
   "cell_type": "code",
   "execution_count": null,
   "metadata": {
    "colab": {},
    "colab_type": "code",
    "id": "WURerza5DZDh"
   },
   "outputs": [],
   "source": [
    "empty_list = []"
   ]
  },
  {
   "cell_type": "code",
   "execution_count": null,
   "metadata": {
    "colab": {},
    "colab_type": "code",
    "id": "8K7MfhHZDZDm",
    "scrolled": true
   },
   "outputs": [],
   "source": [
    "nums = [4, 7, 1, 6, -2, 2, 1]\n",
    "fruits = ['apple', 'jicama', 'banana', 'orange', 'kiwi']"
   ]
  },
  {
   "cell_type": "code",
   "execution_count": null,
   "metadata": {},
   "outputs": [],
   "source": []
  },
  {
   "cell_type": "markdown",
   "metadata": {
    "colab_type": "text",
    "id": "Z4-nAtBADZDs"
   },
   "source": [
    "#### Access elements"
   ]
  },
  {
   "cell_type": "code",
   "execution_count": null,
   "metadata": {
    "colab": {},
    "colab_type": "code",
    "id": "6Ze0I4lqDZDu",
    "scrolled": true
   },
   "outputs": [],
   "source": [
    "print(nums[0])\n",
    "print(fruits[2:4])"
   ]
  },
  {
   "cell_type": "markdown",
   "metadata": {
    "colab_type": "text",
    "id": "Z4-nAtBADZDs"
   },
   "source": [
    "#### Editing lists"
   ]
  },
  {
   "cell_type": "code",
   "execution_count": null,
   "metadata": {},
   "outputs": [],
   "source": [
    "# Adding items: append, extend, insert"
   ]
  },
  {
   "cell_type": "code",
   "execution_count": null,
   "metadata": {},
   "outputs": [],
   "source": []
  },
  {
   "cell_type": "code",
   "execution_count": null,
   "metadata": {},
   "outputs": [],
   "source": [
    "# Deleting items: remove, pop, clear (or del)"
   ]
  },
  {
   "cell_type": "code",
   "execution_count": null,
   "metadata": {},
   "outputs": [],
   "source": []
  },
  {
   "cell_type": "code",
   "execution_count": null,
   "metadata": {},
   "outputs": [],
   "source": [
    "# Sorting"
   ]
  },
  {
   "cell_type": "code",
   "execution_count": null,
   "metadata": {},
   "outputs": [],
   "source": []
  },
  {
   "cell_type": "code",
   "execution_count": null,
   "metadata": {},
   "outputs": [],
   "source": [
    "# index, count"
   ]
  },
  {
   "cell_type": "markdown",
   "metadata": {
    "colab_type": "text",
    "id": "Z4-nAtBADZDs"
   },
   "source": [
    "#### Looping over elements"
   ]
  },
  {
   "cell_type": "code",
   "execution_count": null,
   "metadata": {},
   "outputs": [],
   "source": []
  },
  {
   "cell_type": "markdown",
   "metadata": {
    "colab_type": "text",
    "collapsed": true,
    "id": "F9PhbjoiDZED"
   },
   "source": [
    "Sometimes we need to loop over a list and retrieve the element and its corresponding index"
   ]
  },
  {
   "cell_type": "code",
   "execution_count": null,
   "metadata": {
    "colab": {},
    "colab_type": "code",
    "id": "rl_ZEkeVDZEF"
   },
   "outputs": [],
   "source": [
    "i = 0\n",
    "for fruit in fruits:\n",
    "    print (i,'--->',fruits[i])\n",
    "    i += 1"
   ]
  },
  {
   "cell_type": "code",
   "execution_count": null,
   "metadata": {
    "colab": {},
    "colab_type": "code",
    "id": "Ovd76mGaDZEJ"
   },
   "outputs": [],
   "source": [
    "for i in range(len(fruits)):\n",
    "    print (i, '--->', fruits[i])"
   ]
  },
  {
   "cell_type": "markdown",
   "metadata": {
    "colab_type": "text",
    "id": "IoewE3IuDZEN"
   },
   "source": [
    "The <font color='blue'>enumerate</font> function  gives us an iterable where each element is an object (called a tuple) that contains the index of the item and the original item value."
   ]
  },
  {
   "cell_type": "code",
   "execution_count": null,
   "metadata": {
    "colab": {},
    "colab_type": "code",
    "id": "HrabrgfNDZEP"
   },
   "outputs": [],
   "source": [
    "for idx, fruit in enumerate(fruits, start=1): # optional start=1 argument\n",
    "    print (\"fruit {}: {}\".format(idx, fruit))"
   ]
  },
  {
   "cell_type": "markdown",
   "metadata": {
    "colab_type": "text",
    "id": "GcPXbyEADZES"
   },
   "source": [
    "Looping over two (or more) lists."
   ]
  },
  {
   "cell_type": "code",
   "execution_count": null,
   "metadata": {
    "colab": {},
    "colab_type": "code",
    "id": "80gJI8JtDZEU"
   },
   "outputs": [],
   "source": [
    "colors = ['red','beige','yellow','orange','brown']\n",
    "for i in range(len(fruits)):\n",
    "    print (fruits[i], '--->', colors[i])"
   ]
  },
  {
   "cell_type": "markdown",
   "metadata": {
    "colab_type": "text",
    "id": "PVrL94jkDZEZ"
   },
   "source": [
    "Use <font color='blue'>zip</font>"
   ]
  },
  {
   "cell_type": "code",
   "execution_count": null,
   "metadata": {
    "colab": {},
    "colab_type": "code",
    "id": "_fAyTZ89DZEf"
   },
   "outputs": [],
   "source": [
    "for fruit, color in zip(fruits, colors):\n",
    "    print (fruit, '--->', color)"
   ]
  },
  {
   "cell_type": "markdown",
   "metadata": {},
   "source": [
    "#### Lists are flexible containers"
   ]
  },
  {
   "cell_type": "code",
   "execution_count": null,
   "metadata": {
    "colab": {},
    "colab_type": "code",
    "id": "8kX79KMFDZE5"
   },
   "outputs": [],
   "source": [
    "# Mixed types\n",
    "P = ['Wednesday', 'April', 5, 2017, ('a','b','c')]\n",
    "print (P[0:4])\n",
    "print (P[4])"
   ]
  },
  {
   "cell_type": "code",
   "execution_count": null,
   "metadata": {
    "colab": {},
    "colab_type": "code",
    "id": "Km5Al1QcDZE8"
   },
   "outputs": [],
   "source": [
    "# Multi-dimensional list\n",
    "A = [[1, 3], [2, 4], [1, 9], [4, 16]]\n",
    "print (A[0])\n",
    "print (A[2][0])"
   ]
  },
  {
   "cell_type": "markdown",
   "metadata": {
    "colab_type": "text",
    "id": "Z4-nAtBADZDs"
   },
   "source": [
    "#### List operations"
   ]
  },
  {
   "cell_type": "code",
   "execution_count": null,
   "metadata": {},
   "outputs": [],
   "source": [
    "# min, max, sum, list2string"
   ]
  },
  {
   "cell_type": "markdown",
   "metadata": {
    "colab_type": "text",
    "id": "IM4N10H4DZE_"
   },
   "source": [
    "#### Exercise\n",
    "\n",
    "* Assign fruits to fruits2 and print both lists\n",
    "* Use list operations to remove the \"jicama\" from the \"fruits\" list.\n",
    "* Print both lists - does the  output make sense?"
   ]
  },
  {
   "cell_type": "code",
   "execution_count": null,
   "metadata": {
    "colab": {},
    "colab_type": "code",
    "id": "RrjbwfECDZFA"
   },
   "outputs": [],
   "source": []
  },
  {
   "cell_type": "markdown",
   "metadata": {
    "colab_type": "text",
    "id": "toX1BnJnDZFK"
   },
   "source": [
    "## <font color=\"red\">Tuple</font>"
   ]
  },
  {
   "cell_type": "markdown",
   "metadata": {
    "colab_type": "text",
    "id": "hHL8niI2DZFK"
   },
   "source": [
    "* A tuple is an ordered sequence of elements. \n",
    "* Defined by enclosing the elements in parentheses (())\n",
    "* Used for fixed data\n",
    "* <font color='blue'>Are immutable</font>.\n",
    "* Accessing elements of a tuple is faster than that of a list."
   ]
  },
  {
   "cell_type": "markdown",
   "metadata": {
    "colab_type": "text",
    "collapsed": true,
    "id": "aPIgP362DZFL"
   },
   "source": [
    "#### Initialization"
   ]
  },
  {
   "cell_type": "code",
   "execution_count": null,
   "metadata": {
    "colab": {},
    "colab_type": "code",
    "id": "in4zniehDZFN"
   },
   "outputs": [],
   "source": [
    "empty_tuple = ()"
   ]
  },
  {
   "cell_type": "code",
   "execution_count": null,
   "metadata": {
    "colab": {},
    "colab_type": "code",
    "id": "6JKkHBF2DZFQ"
   },
   "outputs": [],
   "source": [
    "primes = 2, 3, 5, 7, 11, 13    # Parentheses are optional\n",
    "planets = ('mercury', 'venus', 'earth', 'mars', 'jupiter', 'saturn', 'uranus', 'neptune')"
   ]
  },
  {
   "cell_type": "code",
   "execution_count": null,
   "metadata": {
    "colab": {},
    "colab_type": "code",
    "id": "UggZHNI2DZFS"
   },
   "outputs": [],
   "source": [
    "print ('Number of planets in our solar system is', len(planets))"
   ]
  },
  {
   "cell_type": "markdown",
   "metadata": {
    "colab_type": "text",
    "id": "jE47mIXFDZFV"
   },
   "source": [
    "Tuples are simple objects. Two methods only:"
   ]
  },
  {
   "cell_type": "code",
   "execution_count": null,
   "metadata": {
    "colab": {},
    "colab_type": "code",
    "id": "-Ki26c9ZDZFV"
   },
   "outputs": [],
   "source": [
    "print(planets.count('earth'))   # to count the number of occurence of a value\n",
    "print(planets.index('mars'))    # to find occurence of a value\n",
    "\n",
    "# Very little overhead -> faster than lists"
   ]
  },
  {
   "cell_type": "markdown",
   "metadata": {
    "colab_type": "text",
    "id": "j_dxICxlDZFY"
   },
   "source": [
    "#### Other interest in tuples:\n",
    "    * protect the data, which is immutable (*)\n",
    "    * assigning multiple values\n",
    "    * unpacking data\n",
    "    * tuples can be used as keys on dictionaries"
   ]
  },
  {
   "cell_type": "code",
   "execution_count": null,
   "metadata": {
    "colab": {},
    "colab_type": "code",
    "id": "8ia5t4XXDZFb"
   },
   "outputs": [],
   "source": [
    "# Assigning multiple values\n",
    "(x, y, z) = ['a','b','c']\n",
    "x, y, z"
   ]
  },
  {
   "cell_type": "code",
   "execution_count": null,
   "metadata": {
    "colab": {},
    "colab_type": "code",
    "id": "ICDLyzjiDZFd"
   },
   "outputs": [],
   "source": [
    "# Unpacking data\n",
    "data  = (1,2,3)\n",
    "data"
   ]
  },
  {
   "cell_type": "markdown",
   "metadata": {
    "colab_type": "text",
    "id": "U_tEoHevDZFj"
   },
   "source": [
    "## <font color=\"red\">Dictionary</font>"
   ]
  },
  {
   "cell_type": "markdown",
   "metadata": {
    "colab_type": "text",
    "id": "Z5cHqhWqDZFk"
   },
   "source": [
    "* A dictionary is an associative data structure of variable length.\n",
    "* Data is unordered, so elements are accessed by an associated key value.\n",
    "* <font color='blue'>Are mutable</font>."
   ]
  },
  {
   "cell_type": "markdown",
   "metadata": {
    "colab_type": "text",
    "id": "GGnc7OMMDZFm"
   },
   "source": [
    "#### Initialization"
   ]
  },
  {
   "cell_type": "code",
   "execution_count": null,
   "metadata": {
    "colab": {},
    "colab_type": "code",
    "id": "GRmoGy23DZFn"
   },
   "outputs": [],
   "source": [
    "empty_dict = {}"
   ]
  },
  {
   "cell_type": "code",
   "execution_count": null,
   "metadata": {
    "colab": {},
    "colab_type": "code",
    "id": "0uW-4VH-DZFn"
   },
   "outputs": [],
   "source": [
    "# 1\n",
    "daily_temps = {'mon': 70.2, 'tue': 67.2, 'wed': 71.8, 'thur': 73.2, 'fri': 75.6}\n",
    "\n",
    "# 2\n",
    "daily_temps = dict([('mon', 70.2), ('tue', 67.2), ('wed', 71.8), ('thur', 73.2), ('fri', 75.6)])\n",
    "\n",
    "# 3\n",
    "daily_temps = dict(mon=70.2, tue=67.2, wed=71.8, thur=73.2, fri=75.6)\n",
    "\n",
    "days = ['mon', 'tue', 'wed','thu','fri']\n",
    "temps = [70.2, 67.2, 71.8, 73.2, 75.6]\n",
    "# 4\n",
    "daily_temps = dict(zip(days, temps))"
   ]
  },
  {
   "cell_type": "markdown",
   "metadata": {
    "colab_type": "text",
    "id": "hm_79RuMDZFr"
   },
   "source": [
    "<b> Note that you can use only immutable objects for the keys of a dictionary but you can use either immutable or mutable objects for the values of the dictionary. </b>"
   ]
  },
  {
   "cell_type": "markdown",
   "metadata": {
    "colab_type": "text",
    "id": "gm-mQRbvDZFs"
   },
   "source": [
    "#### Access elements"
   ]
  },
  {
   "cell_type": "code",
   "execution_count": null,
   "metadata": {},
   "outputs": [],
   "source": []
  },
  {
   "cell_type": "code",
   "execution_count": null,
   "metadata": {
    "colab": {},
    "colab_type": "code",
    "id": "uzyGg-H1DZFs"
   },
   "outputs": [],
   "source": [
    "# Location at given key stores desired element in the dictionary. Square brackets are used for accessing elements:\n",
    "daily_temps['mon']"
   ]
  },
  {
   "cell_type": "code",
   "execution_count": null,
   "metadata": {
    "colab": {},
    "colab_type": "code",
    "id": "GckRkKrUDZFv"
   },
   "outputs": [],
   "source": [
    "daily_temps.keys()"
   ]
  },
  {
   "cell_type": "code",
   "execution_count": null,
   "metadata": {
    "colab": {},
    "colab_type": "code",
    "id": "wGwl5dmWDZFx"
   },
   "outputs": [],
   "source": [
    "daily_temps.values()"
   ]
  },
  {
   "cell_type": "code",
   "execution_count": null,
   "metadata": {
    "colab": {},
    "colab_type": "code",
    "id": "xqjPW2rBDZF1"
   },
   "outputs": [],
   "source": [
    "daily_temps.items()"
   ]
  },
  {
   "cell_type": "code",
   "execution_count": null,
   "metadata": {},
   "outputs": [],
   "source": [
    "'sat' in daily_temps"
   ]
  },
  {
   "cell_type": "markdown",
   "metadata": {
    "colab_type": "text",
    "id": "caGURxqCDZF4"
   },
   "source": [
    "The specific location that a value is stored is determined by a particular method of converting key values into index values called <font color='red'>hashing</font>. Thus, key values must be hashable. A requirement for a data type to be hashable is that the type must be immutable."
   ]
  },
  {
   "cell_type": "code",
   "execution_count": null,
   "metadata": {
    "colab": {},
    "colab_type": "code",
    "id": "MLPy5fcJDZF5"
   },
   "outputs": [],
   "source": [
    "# Note keys are tuples:\n",
    "temps = {('June',10,2019): 75.2, ('June',11,2019): 77.2}\n",
    "\n",
    "# Access with a tuple\n",
    "temps[('June',10,2019)]"
   ]
  },
  {
   "cell_type": "markdown",
   "metadata": {
    "colab_type": "raw",
    "collapsed": true,
    "id": "PwvSVg3-DZF9"
   },
   "source": [
    "## Looping over a dictionary \n",
    "\n",
    "#### Loop over keys"
   ]
  },
  {
   "cell_type": "code",
   "execution_count": null,
   "metadata": {
    "colab": {},
    "colab_type": "code",
    "id": "RQttndCxDZF-"
   },
   "outputs": [],
   "source": [
    "for day in daily_temps:\n",
    "    print(day)"
   ]
  },
  {
   "cell_type": "markdown",
   "metadata": {
    "colab_type": "raw",
    "collapsed": true,
    "id": "9z1nPTLZDZGB"
   },
   "source": [
    "#### Loop over keys and values "
   ]
  },
  {
   "cell_type": "code",
   "execution_count": null,
   "metadata": {
    "colab": {},
    "colab_type": "code",
    "id": "ZGdr01UzDZGC"
   },
   "outputs": [],
   "source": [
    "for day, temp in daily_temps.items():\n",
    "    print (day, temp)"
   ]
  },
  {
   "cell_type": "code",
   "execution_count": null,
   "metadata": {
    "colab": {},
    "colab_type": "code",
    "id": "CQdHOM6IDZGE"
   },
   "outputs": [],
   "source": [
    "# Example\n",
    "colors = ['red','orange','yellow','green','blue','indigo','violet']\n",
    "d = {}\n",
    "for color in colors:\n",
    "    key = len(color)\n",
    "    d[key] = []\n",
    "    d[key].append(color)\n",
    "d"
   ]
  },
  {
   "cell_type": "markdown",
   "metadata": {},
   "source": [
    "#### Edit a dictionary (add, delete items)"
   ]
  },
  {
   "cell_type": "code",
   "execution_count": null,
   "metadata": {},
   "outputs": [],
   "source": []
  },
  {
   "cell_type": "code",
   "execution_count": null,
   "metadata": {},
   "outputs": [],
   "source": []
  },
  {
   "cell_type": "markdown",
   "metadata": {
    "colab_type": "text",
    "id": "puAzkXq7DZGH"
   },
   "source": [
    "#### Ordered Dictionary\n",
    "\n",
    "In a dictionary, only key-value association is important; order of items is not. However if order is important then you can use an \"ordered dictionary\"."
   ]
  },
  {
   "cell_type": "code",
   "execution_count": null,
   "metadata": {},
   "outputs": [],
   "source": [
    "myDict = {'first': 1, 'second': 2, 'third': 3}\n",
    "\n",
    "print('Regular dictionary:')\n",
    "print(myDict)\n",
    "print([k for k in myDict])"
   ]
  },
  {
   "cell_type": "code",
   "execution_count": null,
   "metadata": {
    "colab": {},
    "colab_type": "code",
    "id": "NmzcRHn7DZGH"
   },
   "outputs": [],
   "source": [
    "from collections import OrderedDict\n",
    "\n",
    "print('OrderedDict:')\n",
    "oDict = OrderedDict([('first', 1), ('second', 2), ('third', 3)])\n",
    "print([k for k in oDict])"
   ]
  },
  {
   "cell_type": "code",
   "execution_count": null,
   "metadata": {},
   "outputs": [],
   "source": [
    "for key, value in od.items(): \n",
    "    print(key, value) "
   ]
  },
  {
   "cell_type": "code",
   "execution_count": null,
   "metadata": {},
   "outputs": [],
   "source": [
    "squares = {1: 1, 3: 9, 5: 25, 7: 49, 9: 81}\n",
    "print(squares)"
   ]
  },
  {
   "cell_type": "markdown",
   "metadata": {
    "colab_type": "text",
    "id": "ldrlQTJ6DZGJ"
   },
   "source": [
    "#### Exercise\n",
    "\n",
    "Reverse key with value in a dictionary: E.g. Given {5:25, 6:36, 7:49}, produce {25:5, 36:6, 49:7}"
   ]
  },
  {
   "cell_type": "code",
   "execution_count": null,
   "metadata": {
    "colab": {},
    "colab_type": "code",
    "id": "Cp32PvILDZGK"
   },
   "outputs": [],
   "source": [
    "d = {5:25 , 6:36 , 7:49}"
   ]
  },
  {
   "cell_type": "code",
   "execution_count": null,
   "metadata": {
    "colab": {},
    "colab_type": "code",
    "id": "uIclXR7kDZGM"
   },
   "outputs": [],
   "source": [
    "# Write your program here\n"
   ]
  },
  {
   "cell_type": "markdown",
   "metadata": {
    "colab_type": "text",
    "collapsed": true,
    "id": "1RsDkgorDZGO"
   },
   "source": [
    "## <font color=\"red\">Set</font>"
   ]
  },
  {
   "cell_type": "markdown",
   "metadata": {
    "colab_type": "text",
    "id": "w4dRmmwaDZGR"
   },
   "source": [
    "* A sequence used to store non-duplicate data.\n",
    "* Data is unordered, accesed via indexing.\n",
    "* <font color='blue'>mutable</font>."
   ]
  },
  {
   "cell_type": "markdown",
   "metadata": {
    "colab_type": "text",
    "id": "7JapEKgXDZGS"
   },
   "source": [
    "#### Initialization"
   ]
  },
  {
   "cell_type": "code",
   "execution_count": null,
   "metadata": {
    "colab": {},
    "colab_type": "code",
    "id": "KeGqUkk_DZGT"
   },
   "outputs": [],
   "source": [
    "empty_set = ()\n",
    "empty_set_too = {}\n",
    "fibo = {1,1,2,3,5}\n",
    "some_primes = [1,1,2,3,5]\n",
    "primes = set(some_primes)"
   ]
  },
  {
   "cell_type": "code",
   "execution_count": null,
   "metadata": {
    "colab": {},
    "colab_type": "code",
    "id": "W9dhx24WDZGV"
   },
   "outputs": [],
   "source": [
    "fibo\n",
    "primes"
   ]
  },
  {
   "cell_type": "markdown",
   "metadata": {
    "colab_type": "text",
    "id": "-2nZCNceDZGX"
   },
   "source": [
    "#### Mathematical set operations"
   ]
  },
  {
   "cell_type": "code",
   "execution_count": null,
   "metadata": {
    "colab": {},
    "colab_type": "code",
    "id": "RPdBaRcuDZGY"
   },
   "outputs": [],
   "source": [
    "a = set([1, 2, 3, 4])\n",
    "b = set([3, 4, 5, 6])"
   ]
  },
  {
   "cell_type": "code",
   "execution_count": null,
   "metadata": {
    "colab": {},
    "colab_type": "code",
    "id": "lLN006ziDZGa"
   },
   "outputs": [],
   "source": [
    "a | b # Union or a.union(b)"
   ]
  },
  {
   "cell_type": "code",
   "execution_count": null,
   "metadata": {
    "colab": {},
    "colab_type": "code",
    "id": "sFU9Asw-DZGc"
   },
   "outputs": [],
   "source": [
    "a & b # Intersection  or a.intersection(b)"
   ]
  },
  {
   "cell_type": "code",
   "execution_count": null,
   "metadata": {
    "colab": {},
    "colab_type": "code",
    "id": "3EMFeAllDZGe"
   },
   "outputs": [],
   "source": [
    "a < b # Subset or a.issubset(b)"
   ]
  },
  {
   "cell_type": "code",
   "execution_count": null,
   "metadata": {
    "colab": {},
    "colab_type": "code",
    "id": "rC1jbVPbDZGg"
   },
   "outputs": [],
   "source": [
    "a - b # Difference or a.difference(b)"
   ]
  },
  {
   "cell_type": "markdown",
   "metadata": {
    "colab_type": "text",
    "collapsed": true,
    "id": "mt2_fTE7DZGt"
   },
   "source": [
    "                                                                                           "
   ]
  },
  {
   "cell_type": "markdown",
   "metadata": {
    "colab_type": "text",
    "id": "RjatwtaGDZHM"
   },
   "source": [
    "## Quiz \n",
    "<A HREF=\"https://www.programiz.com/python-programming/quiz/native-data-types\"> Click here to take a quick quiz on data types</A>"
   ]
  },
  {
   "cell_type": "code",
   "execution_count": null,
   "metadata": {
    "colab": {},
    "colab_type": "code",
    "id": "fHRWkOqPDZHN"
   },
   "outputs": [],
   "source": []
  }
 ],
 "metadata": {
  "colab": {
   "name": "Python_advanced_data_types.ipynb",
   "provenance": [],
   "version": "0.3.2"
  },
  "kernelspec": {
   "display_name": "Python 3",
   "language": "python",
   "name": "python3"
  },
  "language_info": {
   "codemirror_mode": {
    "name": "ipython",
    "version": 3
   },
   "file_extension": ".py",
   "mimetype": "text/x-python",
   "name": "python",
   "nbconvert_exporter": "python",
   "pygments_lexer": "ipython3",
   "version": "3.7.3"
  }
 },
 "nbformat": 4,
 "nbformat_minor": 1
}
